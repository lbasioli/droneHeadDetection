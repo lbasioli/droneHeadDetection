{
 "cells": [
  {
   "cell_type": "code",
   "execution_count": 1,
   "id": "7b5bb1a5-8bc4-468d-ab30-9f961b27b748",
   "metadata": {},
   "outputs": [],
   "source": [
    "NUM_OF_CLASSES = 4  # 1 for temp.pth because we disregarded classification to pedestrians, people in vehicles etc.\n",
    "                    # 4 for trained_model_old.pth beacuse there it wasn't disregarded\n",
    "FILE_NAME = 'trained_model_old.pth'  # 'temp.pth' or 'trained_model_old.pth' or anthing available\n",
    "TEST_IMAGE_PATH = 'data/HT21/test/HT21-15/img1/000007.jpg'"
   ]
  },
  {
   "cell_type": "code",
   "execution_count": 2,
   "id": "c1622ad0-9fc1-49c4-88bd-3a48a4627d75",
   "metadata": {},
   "outputs": [],
   "source": [
    "import torch\n",
    "import torchvision.transforms as T\n",
    "from torchvision.models.detection import fasterrcnn_resnet50_fpn\n",
    "from PIL import Image, ImageDraw\n",
    "\n",
    "# Define a function to visualize the model's output\n",
    "def visualize_output(image, output):\n",
    "    image = T.ToPILImage()(image)  # Convert the image to PIL format\n",
    "    draw = ImageDraw.Draw(image)\n",
    "    \n",
    "    boxes = output['boxes'].detach().cpu().numpy()\n",
    "    labels = output['labels'].detach().cpu().numpy()\n",
    "    \n",
    "    for box, label in zip(boxes, labels):\n",
    "        draw.rectangle(box, outline='red', width=3)\n",
    "        draw.text((box[0], box[1]), f\"Class: {label}\", fill='red')\n",
    "    \n",
    "    image.show()\n",
    "    \n",
    "# Load the trained model\n",
    "model = fasterrcnn_resnet50_fpn(num_classes=NUM_OF_CLASSES)  # Adjust num_classes based on your dataset\n",
    "model.load_state_dict(torch.load(FILE_NAME))\n",
    "model.eval()\n",
    "\n",
    "# Open image\n",
    "test_image_path = TEST_IMAGE_PATH\n",
    "test_image = Image.open(test_image_path).convert(\"RGB\")\n",
    "test_image_tensor = T.ToTensor()(test_image).unsqueeze(0)\n",
    "\n",
    "# Run the model on the test image\n",
    "with torch.no_grad():\n",
    "    output = model(test_image_tensor)\n",
    "\n",
    "# Visualize the output\n",
    "visualize_output(test_image_tensor.squeeze(0), output[0])"
   ]
  },
  {
   "cell_type": "code",
   "execution_count": null,
   "id": "2286740c-1a18-4195-ba55-3ecb00c330d7",
   "metadata": {},
   "outputs": [],
   "source": []
  }
 ],
 "metadata": {
  "kernelspec": {
   "display_name": "drone_head",
   "language": "python",
   "name": "drone_head"
  },
  "language_info": {
   "codemirror_mode": {
    "name": "ipython",
    "version": 3
   },
   "file_extension": ".py",
   "mimetype": "text/x-python",
   "name": "python",
   "nbconvert_exporter": "python",
   "pygments_lexer": "ipython3",
   "version": "3.9.13"
  }
 },
 "nbformat": 4,
 "nbformat_minor": 5
}
